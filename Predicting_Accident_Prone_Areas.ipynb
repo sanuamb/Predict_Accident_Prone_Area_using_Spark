{
 "cells": [
  {
   "cell_type": "code",
   "execution_count": 106,
   "metadata": {},
   "outputs": [],
   "source": [
    "from pyspark import SparkContext,SparkConf\n",
    "from pyspark.sql import SparkSession, HiveContext\n",
    "from pyspark.ml.feature import OneHotEncoder, StringIndexer,VectorAssembler\n",
    "from pyspark.ml import Pipeline\n",
    "from pyspark.ml.classification import DecisionTreeClassifier,LogisticRegression\n",
    "from pyspark.ml.evaluation import MulticlassClassificationEvaluator"
   ]
  },
  {
   "cell_type": "code",
   "execution_count": 6,
   "metadata": {},
   "outputs": [],
   "source": [
    "conf=SparkConf().setAppName('Predicting_Accident_Prone_Areas')\n",
    "sc=SparkContext(conf=conf)"
   ]
  },
  {
   "cell_type": "code",
   "execution_count": 7,
   "metadata": {},
   "outputs": [],
   "source": [
    "ardd=sc.textFile('Accidents_2015.csv')"
   ]
  },
  {
   "cell_type": "code",
   "execution_count": 9,
   "metadata": {},
   "outputs": [
    {
     "name": "stdout",
     "output_type": "stream",
     "text": [
      "Accident_Index,Location_Easting_OSGR,Location_Northing_OSGR,Longitude,Latitude,Police_Force,Accident_Severity,Number_of_Vehicles,Number_of_Casualties,Date,Day_of_Week,Time,Local_Authority_(District),Local_Authority_(Highway),1st_Road_Class,1st_Road_Number,Road_Type,Speed_limit,Junction_Detail,Junction_Control,2nd_Road_Class,2nd_Road_Number,Pedestrian_Crossing-Human_Control,Pedestrian_Crossing-Physical_Facilities,Light_Conditions,Weather_Conditions,Road_Surface_Conditions,Special_Conditions_at_Site,Carriageway_Hazards,Urban_or_Rural_Area,Did_Police_Officer_Attend_Scene_of_Accident,LSOA_of_Accident_Location\n",
      "201501BS70001,525130,180050,-0.198465,51.505538,1,3,1,1,12/01/2015,2,18:45,12,E09000020,5,0,6,30,3,4,6,0,0,0,4,1,1,0,0,1,1,E01002825\n",
      "201501BS70002,526530,178560,-0.178838,51.491836,1,3,1,1,12/01/2015,2,07:50,12,E09000020,6,0,6,30,3,4,3,3218,0,0,1,1,1,0,0,1,1,E01002820\n",
      "201501BS70004,524610,181080,-0.205590,51.514910,1,3,1,1,12/01/2015,2,18:08,12,E09000020,4,415,6,30,2,4,6,0,0,1,4,2,2,0,0,1,1,E01002833\n",
      "201501BS70005,524420,181080,-0.208327,51.514952,1,3,1,1,13/01/2015,3,07:40,12,E09000020,4,450,6,30,6,4,6,0,0,0,1,1,2,0,0,1,2,E01002874\n",
      "201501BS70008,524630,179040,-0.206022,51.496572,1,2,2,1,09/01/2015,6,07:30,12,E09000020,3,315,6,30,6,2,3,3220,0,5,1,2,2,0,0,1,2,E01002814\n",
      "201501BS70009,525480,179530,-0.193610,51.500788,1,3,2,1,15/01/2015,5,09:56,12,E09000020,3,315,6,30,3,4,5,0,0,4,1,1,2,0,0,1,1,E01002816\n",
      "201501BS70010,526890,178940,-0.173519,51.495171,1,3,2,1,15/01/2015,5,09:09,12,E09000020,3,3218,6,30,6,2,3,3218,0,5,1,8,2,0,0,1,1,E01002821\n",
      "201501BS70011,527590,178660,-0.163542,51.492497,1,3,2,1,18/01/2015,1,15:30,12,E09000020,6,0,6,30,0,-1,-1,0,0,0,1,1,1,0,0,1,1,E01002861\n",
      "201501BS70012,524170,180930,-0.211980,51.513659,1,3,2,1,16/01/2015,6,06:20,12,E09000020,5,0,6,30,3,4,6,0,0,1,1,1,1,0,0,1,1,E01002879\n"
     ]
    }
   ],
   "source": [
    "for i in ardd.take(10):\n",
    "    print(i)"
   ]
  },
  {
   "cell_type": "code",
   "execution_count": 10,
   "metadata": {},
   "outputs": [],
   "source": [
    "header=ardd.first()"
   ]
  },
  {
   "cell_type": "code",
   "execution_count": 11,
   "metadata": {},
   "outputs": [],
   "source": [
    "arddfilter=ardd.filter(lambda line:line!=header)\n",
    "arddfinal=arddfilter.filter(lambda row:row.split(','))"
   ]
  },
  {
   "cell_type": "markdown",
   "metadata": {},
   "source": [
    "#### Some basic EDA"
   ]
  },
  {
   "cell_type": "code",
   "execution_count": 12,
   "metadata": {},
   "outputs": [
    {
     "name": "stdout",
     "output_type": "stream",
     "text": [
      "(42890, '0')\n",
      "(16290, '1')\n",
      "(5774, 'E')\n",
      "(5728, 'S')\n",
      "(5408, '2')\n",
      "(5299, '5')\n",
      "(4813, 'K')\n",
      "(4650, 'W')\n",
      "(4594, 'C')\n",
      "(3988, 'N')\n",
      "(3542, 'P')\n",
      "(3202, 'I')\n",
      "(3085, 'A')\n",
      "(2958, 'B')\n",
      "(2686, 'G')\n",
      "(2563, 'J')\n",
      "(2358, 'T')\n",
      "(2087, 'R')\n",
      "(2086, 'Q')\n",
      "(2002, 'L')\n"
     ]
    }
   ],
   "source": [
    "#Display Number of accidents based on severity\n",
    "arddsev=arddfinal.map(lambda x:(x[6],1)).reduceByKey(lambda acc,val:acc+val)\n",
    "arddsev1=arddsev.map(lambda x:(x[1],x[0]))\n",
    "arddsev2=arddsev1.sortByKey(0)\n",
    "for i in arddsev2.take(20):\n",
    "    print(i)"
   ]
  },
  {
   "cell_type": "code",
   "execution_count": 15,
   "metadata": {},
   "outputs": [
    {
     "name": "stdout",
     "output_type": "stream",
     "text": [
      "(13926, '1')\n"
     ]
    }
   ],
   "source": [
    "#Display Number of Accident and their severity during daytime\n",
    "arddsevday=arddfinal.filter(lambda x:x[24]==\"1\")\n",
    "arddsevday1=arddsevday.map(lambda x:(x[24],1)).reduceByKey(lambda acc,val:acc+val)\n",
    "arddsevday2=arddsevday1.map(lambda x:(x[1],x[0]))\n",
    "arddsevday3=arddsevday2.sortByKey(0)\n",
    "for i in arddsevday3.take(20):\n",
    "    print(i)"
   ]
  },
  {
   "cell_type": "code",
   "execution_count": 17,
   "metadata": {},
   "outputs": [
    {
     "name": "stdout",
     "output_type": "stream",
     "text": [
      "(14220, '4')\n"
     ]
    }
   ],
   "source": [
    "#Display Number of Accidents and their severity during Nighttime\n",
    "arddnight=arddfinal.filter(lambda x:x[24]==\"4\")\n",
    "arddnight1=arddnight.map(lambda x:(x[24],1)).reduceByKey(lambda acc,val:acc+val)\n",
    "arddnight2=arddnight1.map(lambda x:(x[1],x[0]))\n",
    "arddnight3=arddnight2.sortByKey(0)\n",
    "for i in arddnight3.take(10):\n",
    "    print(i)"
   ]
  },
  {
   "cell_type": "markdown",
   "metadata": {},
   "source": [
    "#### Creating spark dataframe "
   ]
  },
  {
   "cell_type": "code",
   "execution_count": 20,
   "metadata": {},
   "outputs": [],
   "source": [
    "sparksession=SparkSession.builder.appName('Predicting_Accident_Prone_Areas').config('\"spark.some.config.option\",\"some-value\"').getOrCreate()"
   ]
  },
  {
   "cell_type": "code",
   "execution_count": 23,
   "metadata": {},
   "outputs": [],
   "source": [
    "df=sparksession.read.csv('Accidents_2015.csv',header=True,inferSchema=True)"
   ]
  },
  {
   "cell_type": "code",
   "execution_count": 24,
   "metadata": {},
   "outputs": [
    {
     "name": "stdout",
     "output_type": "stream",
     "text": [
      "+--------------+---------------------+----------------------+---------+---------+------------+-----------------+------------------+--------------------+----------+-----------+-----+--------------------------+-------------------------+--------------+---------------+---------+-----------+---------------+----------------+--------------+---------------+---------------------------------+---------------------------------------+----------------+------------------+-----------------------+--------------------------+-------------------+-------------------+-------------------------------------------+-------------------------+\n",
      "|Accident_Index|Location_Easting_OSGR|Location_Northing_OSGR|Longitude| Latitude|Police_Force|Accident_Severity|Number_of_Vehicles|Number_of_Casualties|      Date|Day_of_Week| Time|Local_Authority_(District)|Local_Authority_(Highway)|1st_Road_Class|1st_Road_Number|Road_Type|Speed_limit|Junction_Detail|Junction_Control|2nd_Road_Class|2nd_Road_Number|Pedestrian_Crossing-Human_Control|Pedestrian_Crossing-Physical_Facilities|Light_Conditions|Weather_Conditions|Road_Surface_Conditions|Special_Conditions_at_Site|Carriageway_Hazards|Urban_or_Rural_Area|Did_Police_Officer_Attend_Scene_of_Accident|LSOA_of_Accident_Location|\n",
      "+--------------+---------------------+----------------------+---------+---------+------------+-----------------+------------------+--------------------+----------+-----------+-----+--------------------------+-------------------------+--------------+---------------+---------+-----------+---------------+----------------+--------------+---------------+---------------------------------+---------------------------------------+----------------+------------------+-----------------------+--------------------------+-------------------+-------------------+-------------------------------------------+-------------------------+\n",
      "| 201501BS70001|               525130|                180050|-0.198465|51.505538|           1|                3|                 1|                   1|12/01/2015|          2|18:45|                        12|                E09000020|             5|              0|        6|         30|              3|               4|             6|              0|                                0|                                      0|               4|                 1|                      1|                         0|                  0|                  1|                                          1|                E01002825|\n",
      "| 201501BS70002|               526530|                178560|-0.178838|51.491836|           1|                3|                 1|                   1|12/01/2015|          2|07:50|                        12|                E09000020|             6|              0|        6|         30|              3|               4|             3|           3218|                                0|                                      0|               1|                 1|                      1|                         0|                  0|                  1|                                          1|                E01002820|\n",
      "| 201501BS70004|               524610|                181080| -0.20559| 51.51491|           1|                3|                 1|                   1|12/01/2015|          2|18:08|                        12|                E09000020|             4|            415|        6|         30|              2|               4|             6|              0|                                0|                                      1|               4|                 2|                      2|                         0|                  0|                  1|                                          1|                E01002833|\n",
      "| 201501BS70005|               524420|                181080|-0.208327|51.514952|           1|                3|                 1|                   1|13/01/2015|          3|07:40|                        12|                E09000020|             4|            450|        6|         30|              6|               4|             6|              0|                                0|                                      0|               1|                 1|                      2|                         0|                  0|                  1|                                          2|                E01002874|\n",
      "| 201501BS70008|               524630|                179040|-0.206022|51.496572|           1|                2|                 2|                   1|09/01/2015|          6|07:30|                        12|                E09000020|             3|            315|        6|         30|              6|               2|             3|           3220|                                0|                                      5|               1|                 2|                      2|                         0|                  0|                  1|                                          2|                E01002814|\n",
      "| 201501BS70009|               525480|                179530| -0.19361|51.500788|           1|                3|                 2|                   1|15/01/2015|          5|09:56|                        12|                E09000020|             3|            315|        6|         30|              3|               4|             5|              0|                                0|                                      4|               1|                 1|                      2|                         0|                  0|                  1|                                          1|                E01002816|\n",
      "| 201501BS70010|               526890|                178940|-0.173519|51.495171|           1|                3|                 2|                   1|15/01/2015|          5|09:09|                        12|                E09000020|             3|           3218|        6|         30|              6|               2|             3|           3218|                                0|                                      5|               1|                 8|                      2|                         0|                  0|                  1|                                          1|                E01002821|\n",
      "| 201501BS70011|               527590|                178660|-0.163542|51.492497|           1|                3|                 2|                   1|18/01/2015|          1|15:30|                        12|                E09000020|             6|              0|        6|         30|              0|              -1|            -1|              0|                                0|                                      0|               1|                 1|                      1|                         0|                  0|                  1|                                          1|                E01002861|\n",
      "| 201501BS70012|               524170|                180930| -0.21198|51.513659|           1|                3|                 2|                   1|16/01/2015|          6|06:20|                        12|                E09000020|             5|              0|        6|         30|              3|               4|             6|              0|                                0|                                      1|               1|                 1|                      1|                         0|                  0|                  1|                                          1|                E01002879|\n",
      "| 201501BS70013|               525010|                181200|-0.199786|  51.5159|           1|                3|                 2|                   2|20/01/2015|          3|15:44|                        12|                E09000020|             6|              0|        6|         30|              3|               4|             6|              0|                                0|                                      0|               1|                 8|                      1|                         0|                  0|                  1|                                          1|                E01002832|\n",
      "| 201501BS70014|               523850|                181450|-0.216407|51.518402|           1|                3|                 2|                   1|23/01/2015|          6|22:39|                        12|                E09000020|             4|            412|        1|         30|              2|               4|             6|              0|                                0|                                      0|               4|                 2|                      2|                         0|                  0|                  1|                                          1|                E01002909|\n",
      "| 201501BS70015|               526110|                179650|-0.184495|51.501726|           1|                3|                 1|                   2|22/01/2015|          5|08:10|                         1|                E09000033|             3|            315|        6|         30|              3|               2|             4|            325|                                0|                                      5|               1|                 1|                      1|                         0|                  0|                  1|                                          1|                E01002891|\n",
      "| 201501BS70016|               526970|                178510|-0.172522|51.491289|           1|                3|                 2|                   1|21/01/2015|          4|18:05|                        12|                E09000020|             3|            308|        6|         30|              3|               4|             6|              0|                                0|                                      0|               4|                 1|                      1|                         0|                  0|                  1|                                          1|                E01002914|\n",
      "| 201501BS70017|               525350|                178640|-0.195797|51.492818|           1|                3|                 1|                   1|21/01/2015|          4|13:38|                        12|                E09000020|             6|              0|        6|         30|              6|               4|             6|              0|                                0|                                      0|               1|                 1|                      1|                         0|                  0|                  1|                                          1|                E01002847|\n",
      "| 201501BS70018|               527370|                178170|-0.166886|51.488143|           1|                3|                 1|                   1|23/01/2015|          6|10:57|                        12|                E09000020|             3|           3217|        6|         30|              3|               4|             6|              0|                                0|                                      0|               1|                 1|                      1|                         0|                  0|                  1|                                          1|                E01002899|\n",
      "| 201501BS70019|               527370|                178180|-0.166882|51.488233|           1|                3|                 1|                   1|23/01/2015|          6|17:15|                        12|                E09000020|             3|           3217|        6|         30|              3|               4|             6|              0|                                0|                                      0|               4|                 1|                      1|                         0|                  0|                  1|                                          1|                E01002899|\n",
      "| 201501BS70020|               524020|                181050|-0.214099| 51.51477|           1|                3|                 2|                   1|23/01/2015|          6|13:34|                        12|                E09000020|             5|              0|        6|         30|              3|               4|             6|              0|                                0|                                      0|               1|                 1|                      1|                         0|                  0|                  1|                                          1|                E01002878|\n",
      "| 201501BS70022|               526200|                177720|-0.183889|51.484361|           1|                3|                 2|                   1|25/01/2015|          1|01:50|                        12|                E09000020|             3|            308|        6|         30|              0|              -1|            -1|              0|                                0|                                      5|               4|                 1|                      1|                         0|                  0|                  1|                                          1|                E01002912|\n",
      "| 201501BS70023|               524450|                181560|-0.207725|51.519259|           1|                3|                 1|                   1|24/01/2015|          7|16:16|                        12|                E09000020|             6|              0|        6|         30|              0|              -1|            -1|              0|                                0|                                      0|               4|                 1|                      1|                         0|                  0|                  1|                                          1|                E01002855|\n",
      "| 201501BS70024|               526940|                178480|-0.172964|51.491026|           1|                3|                 2|                   1|23/01/2015|          6|15:25|                        12|                E09000020|             3|            308|        6|         30|              8|               4|             6|              0|                                0|                                      0|               1|                 1|                      1|                         0|                  0|                  1|                                          1|                E01002914|\n",
      "+--------------+---------------------+----------------------+---------+---------+------------+-----------------+------------------+--------------------+----------+-----------+-----+--------------------------+-------------------------+--------------+---------------+---------+-----------+---------------+----------------+--------------+---------------+---------------------------------+---------------------------------------+----------------+------------------+-----------------------+--------------------------+-------------------+-------------------+-------------------------------------------+-------------------------+\n",
      "only showing top 20 rows\n",
      "\n",
      "None\n"
     ]
    }
   ],
   "source": [
    "print(df.show(20))"
   ]
  },
  {
   "cell_type": "code",
   "execution_count": 25,
   "metadata": {},
   "outputs": [
    {
     "name": "stdout",
     "output_type": "stream",
     "text": [
      "32\n"
     ]
    }
   ],
   "source": [
    "print(len(df.columns))"
   ]
  },
  {
   "cell_type": "code",
   "execution_count": 26,
   "metadata": {},
   "outputs": [],
   "source": [
    "#remove rows containing NA\n",
    "df=df.na.drop()"
   ]
  },
  {
   "cell_type": "code",
   "execution_count": 29,
   "metadata": {},
   "outputs": [],
   "source": [
    "#set the hive context\n",
    "hc=HiveContext(sc)\n",
    "hc.setConf(\"hive.metastore.uris\",\"thrift://METASTORE:9083\")"
   ]
  },
  {
   "cell_type": "code",
   "execution_count": 30,
   "metadata": {},
   "outputs": [],
   "source": [
    "#registering the dataframe\n",
    "df.registerTempTable('tab')"
   ]
  },
  {
   "cell_type": "code",
   "execution_count": 32,
   "metadata": {},
   "outputs": [],
   "source": [
    "res1=hc.sql(\"select Accident_Index,Time from tab where Time>='00:00' and Time<='05:59'\")\n",
    "res2=hc.sql(\"select Accident_Index,Time from tab where Time>='06:00' and Time<='11:59'\")\n",
    "res3=hc.sql(\"select Accident_Index,Time from tab where Time>='12:00' and Time<='17:59'\")\n",
    "res4=hc.sql(\"select Accident_Index,Time from tab where Time>='18:00' and Time<='23:59'\")"
   ]
  },
  {
   "cell_type": "code",
   "execution_count": 41,
   "metadata": {},
   "outputs": [],
   "source": [
    "#map time to rdd\n",
    "time1=res1.map(lambda p:(p[0],1))\n",
    "time2=res2.map(lambda p:(p[0],2))\n",
    "time3=res3.map(lambda p:(p[0],3))\n",
    "time4=res4.map(lambda p:(p[0],4))"
   ]
  },
  {
   "cell_type": "code",
   "execution_count": 56,
   "metadata": {},
   "outputs": [],
   "source": [
    "#Union all the time to form a single rdd \n",
    "time=time1.union(time2).union(time3).union(time4)\n",
    "#final timerdd to be included in the dataframe\n",
    "finaltime=time.map(lambda p:(p[0],p[1]))"
   ]
  },
  {
   "cell_type": "code",
   "execution_count": 57,
   "metadata": {},
   "outputs": [],
   "source": [
    "#Convert to dataframe and register to hive\n",
    "finaltimedf=sparksession.createDataFrame(finaltime)"
   ]
  },
  {
   "cell_type": "code",
   "execution_count": 58,
   "metadata": {},
   "outputs": [
    {
     "name": "stdout",
     "output_type": "stream",
     "text": [
      "+--------------+----+\n",
      "|Accident_Index|Time|\n",
      "+--------------+----+\n",
      "| 201501BS70022|   1|\n",
      "| 201501BS70033|   1|\n",
      "| 201501BS70039|   1|\n",
      "| 201501BS70141|   1|\n",
      "| 201501BS70175|   1|\n",
      "| 201501BS70189|   1|\n",
      "| 201501BS70232|   1|\n",
      "| 201501BS70249|   1|\n",
      "| 201501BS70260|   1|\n",
      "| 201501BS70327|   1|\n",
      "| 201501BS70336|   1|\n",
      "| 201501BS70341|   1|\n",
      "| 201501BS70351|   1|\n",
      "| 201501BS70360|   1|\n",
      "| 201501BS70364|   1|\n",
      "| 201501BS70421|   1|\n",
      "| 201501BS70439|   1|\n",
      "| 201501BS70455|   1|\n",
      "| 201501BS70473|   1|\n",
      "| 201501BS70484|   1|\n",
      "+--------------+----+\n",
      "only showing top 20 rows\n",
      "\n",
      "None\n"
     ]
    }
   ],
   "source": [
    "#give names to the columns\n",
    "newnames=['Accident_Index','Time']\n",
    "finaltimedf=finaltimedf.toDF(*newnames)\n",
    "print(finaltimedf.show(20))"
   ]
  },
  {
   "cell_type": "code",
   "execution_count": 59,
   "metadata": {},
   "outputs": [],
   "source": [
    "#store the table in hive\n",
    "finaltimedf.registerTempTable('time')"
   ]
  },
  {
   "cell_type": "code",
   "execution_count": 60,
   "metadata": {},
   "outputs": [],
   "source": [
    "#join the tab and time on Accident_Index\n",
    "finaldf=hc.sql(\"select tt.*,ht.Time from tab tt,time ht where tt.Accident_Index==ht.Accident_Index\")"
   ]
  },
  {
   "cell_type": "code",
   "execution_count": 62,
   "metadata": {},
   "outputs": [
    {
     "name": "stdout",
     "output_type": "stream",
     "text": [
      "+--------------+---------------------+----------------------+---------+---------+------------+-----------------+------------------+--------------------+----------+-----------+-----+--------------------------+-------------------------+--------------+---------------+---------+-----------+---------------+----------------+--------------+---------------+---------------------------------+---------------------------------------+----------------+------------------+-----------------------+--------------------------+-------------------+-------------------+-------------------------------------------+-------------------------+----+\n",
      "|Accident_Index|Location_Easting_OSGR|Location_Northing_OSGR|Longitude| Latitude|Police_Force|Accident_Severity|Number_of_Vehicles|Number_of_Casualties|      Date|Day_of_Week| Time|Local_Authority_(District)|Local_Authority_(Highway)|1st_Road_Class|1st_Road_Number|Road_Type|Speed_limit|Junction_Detail|Junction_Control|2nd_Road_Class|2nd_Road_Number|Pedestrian_Crossing-Human_Control|Pedestrian_Crossing-Physical_Facilities|Light_Conditions|Weather_Conditions|Road_Surface_Conditions|Special_Conditions_at_Site|Carriageway_Hazards|Urban_or_Rural_Area|Did_Police_Officer_Attend_Scene_of_Accident|LSOA_of_Accident_Location|Time|\n",
      "+--------------+---------------------+----------------------+---------+---------+------------+-----------------+------------------+--------------------+----------+-----------+-----+--------------------------+-------------------------+--------------+---------------+---------+-----------+---------------+----------------+--------------+---------------+---------------------------------+---------------------------------------+----------------+------------------+-----------------------+--------------------------+-------------------+-------------------+-------------------------------------------+-------------------------+----+\n",
      "| 201501BS70261|               525940|                178590|-0.187321|51.492238|           1|                3|                 2|                   1|16/05/2015|          7|11:41|                        12|                E09000020|             5|              0|        6|         30|              2|               4|             6|              0|                                0|                                      0|               1|                 1|                      1|                         0|                  0|                  1|                                          1|                E01002834|   2|\n",
      "| 201501BS70340|               525370|                178340|-0.195616|51.490117|           1|                3|                 1|                   1|18/06/2015|          5|15:00|                        12|                E09000020|             3|           3220|        2|         30|              0|              -1|            -1|              0|                                0|                                      5|               1|                 1|                      1|                         0|                  0|                  1|                                          1|                E01002846|   3|\n",
      "| 201501BS70549|               528490|                178000|-0.150825|51.486362|           1|                3|                 1|                   1|26/09/2015|          7|12:47|                        12|                E09000020|             3|           3216|        6|         30|              0|              -1|            -1|              0|                                0|                                      0|               1|                 1|                      1|                         0|                  0|                  1|                                          1|                E01002901|   3|\n",
      "| 201501BS70557|               526170|                178680|-0.183978|51.492995|           1|                3|                 2|                   1|30/09/2015|          4|17:25|                        12|                E09000020|             6|              0|        1|         30|              2|               4|             6|              0|                                0|                                      0|               1|                 1|                      1|                         0|                  0|                  1|                                          1|                E01002836|   3|\n",
      "| 201501BS70623|               526030|                177530|-0.186404|51.482691|           1|                3|                 2|                   1|20/10/2015|          3|19:30|                        12|                E09000020|             3|            304|        6|         30|              3|               4|             6|              0|                                0|                                      0|               4|                 1|                      1|                         0|                  0|                  1|                                          2|                E01002913|   4|\n",
      "| 201501CP00005|               531720|                181720|-0.102945| 51.51905|          48|                3|                 2|                   1|05/01/2015|          2|00:02|                       570|                E09000001|             4|            500|        2|         30|              3|               4|             6|              0|                                0|                                      0|               4|                 1|                      1|                         0|                  0|                  1|                                          2|                E01032740|   1|\n",
      "| 201501CW10417|               526760|                183090|  -0.1739|51.532496|           1|                3|                 3|                   1|13/04/2015|          2|15:45|                         1|                E09000033|             5|              0|        6|         30|              3|               4|             6|              0|                                0|                                      0|               1|                 1|                      1|                         0|                  0|                  1|                                          1|                E01004726|   3|\n",
      "| 201501CW10580|               527240|                180870|-0.167784|51.512437|           1|                3|                 2|                   1|06/05/2015|          4|07:30|                         1|                E09000033|             3|            402|        6|         30|              3|               4|             5|              0|                                0|                                      0|               1|                 1|                      2|                         0|                  0|                  1|                                          1|                E01004680|   2|\n",
      "| 201501CW10652|               530630|                180800|-0.118986|51.511035|           1|                3|                 2|                   1|19/05/2015|          3|07:00|                         1|                E09000033|             3|            301|        3|         30|              0|              -1|            -1|              0|                                0|                                      5|               1|                 1|                      1|                         0|                  0|                  1|                                          1|                E01004735|   2|\n",
      "| 201501CW10667|               528990|                178150|-0.143573|51.487597|           1|                3|                 1|                   1|21/05/2015|          5|19:50|                         1|                E09000033|             5|              0|        6|         30|              3|               4|             6|              0|                                0|                                      0|               4|                 1|                      1|                         0|                  0|                  1|                                          1|                E01004668|   4|\n",
      "| 201501CW10919|               530650|                180970|-0.118635|51.512558|           1|                3|                 2|                   1|07/04/2015|          3|13:30|                         1|                E09000033|             3|              4|        2|         30|              0|              -1|            -1|              0|                                0|                                      0|               1|                 1|                      1|                         0|                  0|                  1|                                          2|                E01004735|   3|\n",
      "| 201501CW11319|               528830|                178830|-0.145629|51.493744|           1|                3|                 1|                   1|03/09/2015|          5|09:19|                         1|                E09000033|             3|           3213|        6|         30|              3|               2|             6|              0|                                0|                                      5|               1|                 1|                      1|                         0|                  0|                  1|                                          1|                E01004750|   2|\n",
      "| 201501CW11600|               526640|                183400|-0.175517|51.535308|           1|                3|                 2|                   1|24/10/2015|          7|11:50|                         1|                E09000033|             3|             41|        6|         30|              3|               4|             6|              0|                                0|                                      8|               1|                 1|                      1|                         0|                  0|                  1|                                          1|                E01004649|   2|\n",
      "| 201501CW11682|               530300|                179740| -0.12413|51.501585|           1|                3|                 2|                   1|09/11/2015|          2|07:20|                         1|                E09000033|             3|           3211|        6|         30|              8|               4|             6|              0|                                0|                                      0|               1|                 1|                      1|                         0|                  0|                  1|                                          1|                E01004733|   2|\n",
      "| 201501EK40175|               524400|                184990|-0.207235|51.550095|           1|                2|                 2|                   1|28/02/2015|          7|18:26|                        28|                E09000005|             3|              5|        6|         30|              9|               2|             5|              0|                                0|                                      5|               4|                 1|                      1|                         0|                  0|                  1|                                          1|                E01000561|   4|\n",
      "| 201501EK40772|               528990|                185000|-0.141069|51.549155|           1|                3|                 2|                   1|03/09/2015|          5|19:13|                         2|                E09000007|             3|            400|        6|         30|              3|               4|             6|              0|                                0|                                      0|               1|                 1|                      1|                         0|                  0|                  1|                                          1|                E01000922|   4|\n",
      "| 201501EK40935|               525390|                184160| -0.19326|51.542417|           1|                3|                 2|                   1|21/10/2015|          4|16:30|                         2|                E09000007|             4|            510|        6|         30|              3|               4|             6|              0|                                0|                                      0|               4|                 1|                      1|                         0|                  1|                  1|                                          1|                E01000932|   3|\n",
      "| 201501EK41027|               530720|                181060|-0.117594|51.513351|           1|                3|                 2|                   2|12/11/2015|          5|20:15|                         1|                E09000033|             3|           4200|        6|         30|              3|               2|             3|              4|                                0|                                      5|               4|                 1|                      2|                         0|                  0|                  1|                                          2|                E01004735|   4|\n",
      "| 201501EK41064|               530790|                182800| -0.11594|51.528971|           1|                3|                 1|                   1|30/11/2015|          2|08:51|                         3|                E09000019|             3|            201|        6|         30|              6|               4|             3|            201|                                0|                                      1|               1|                 1|                      2|                         0|                  0|                  1|                                          1|                E01000938|   2|\n",
      "| 201501EO40090|               531450|                183160|-0.106297|51.532053|           1|                3|                 2|                   1|11/01/2015|          1|12:40|                         3|                E09000019|             3|              1|        6|         30|              6|               2|             3|            501|                                0|                                      0|               1|                 1|                      1|                         0|                  0|                  1|                                          1|                E01002696|   3|\n",
      "| 201501EO40137|               531680|                184650|-0.102426|51.545389|           1|                3|                 2|                   1|06/02/2015|          6|13:50|                         3|                E09000019|             3|           1200|        6|         30|              1|               2|             3|              1|                                0|                                      5|               1|                 1|                      1|                         0|                  0|                  1|                                          2|                E01002791|   3|\n",
      "| 201501EO40217|               530710|                185740|-0.116002| 51.55541|           1|                3|                 1|                   1|18/03/2015|          4|19:00|                         3|                E09000019|             3|              1|        3|         30|              3|               4|             6|              0|                                0|                                      4|               7|                 9|                      1|                         0|                  0|                  1|                                          2|                E01002767|   4|\n",
      "| 201501EO40513|               531160|                182910|-0.110568|51.529874|           1|                3|                 2|                   1|17/07/2015|          6|08:45|                         3|                E09000019|             5|              0|        6|         30|              3|               4|             6|              0|                                0|                                      0|               1|                 1|                      1|                         0|                  0|                  1|                                          2|                E01002729|   2|\n",
      "| 201501EO49041|               530380|                186080|-0.120633|51.558542|           1|                3|                 1|                   1|15/12/2015|          3|09:35|                         3|                E09000019|             3|              1|        3|         30|              3|               2|             3|              1|                                0|                                      5|               1|                 1|                      2|                         0|                  0|                  1|                                          1|                E01002786|   2|\n",
      "| 201501FH10428|               524920|                177760|-0.202299|51.485004|           1|                3|                 1|                   2|10/08/2015|          2|13:00|                        11|                E09000013|             4|            317|        6|         30|              0|              -1|            -1|              0|                                0|                                      0|               1|                 1|                      1|                         0|                  0|                  1|                                          1|                E01001884|   3|\n",
      "| 201501FH10565|               523350|                179950|-0.224134|51.505031|           1|                3|                 2|                   1|12/11/2015|          5|21:00|                        11|                E09000013|             3|           4020|        6|         30|              0|              -1|            -1|              0|                                0|                                      0|               4|                 1|                      1|                         0|                  0|                  1|                                          1|                E01001943|   4|\n",
      "| 201501FH10608|               524460|                178130| -0.20879|51.488431|           1|                3|                 2|                   1|27/11/2015|          6|18:10|                        11|                E09000013|             6|              0|        6|         30|              6|               4|             6|              0|                                0|                                      0|               4|                 1|                      1|                         0|                  0|                  1|                                          2|                E01001908|   4|\n",
      "| 201501GD10130|               532310|                186720|-0.092568|51.563844|           1|                3|                 2|                   1|08/02/2015|          1|01:00|                         4|                E09000012|             4|            105|        6|         30|              6|               2|             3|            105|                                0|                                      5|               4|                 1|                      1|                         0|                  0|                  1|                                          1|                E01001719|   1|\n",
      "| 201501GD10437|               536190|                184640|-0.037431| 51.54423|           1|                3|                 2|                   2|21/05/2015|          5|10:11|                         4|                E09000012|             3|            106|        2|         30|              3|               4|             6|              0|                                0|                                      0|               1|                 9|                      1|                         0|                  0|                  1|                                          2|                E01001845|   2|\n",
      "| 201501HT20442|               534520|                183200|-0.062049| 51.53169|           1|                3|                 2|                   1|30/05/2015|          7|14:27|                         5|                E09000030|             3|           1208|        6|         30|              3|               4|             6|              0|                                0|                                      0|               1|                 1|                      1|                         0|                  0|                  1|                                          1|                E01004200|   3|\n",
      "| 201501HT20826|               538180|                180520|-0.010367|51.506725|           1|                3|                 2|                   2|19/09/2015|          7|16:30|                         5|                E09000030|             6|              0|        6|         30|              2|               4|             6|              0|                                0|                                      0|               1|                 1|                      1|                         0|                  0|                  1|                                          1|                E01032780|   3|\n",
      "| 201501HT21042|               537240|                182810|-0.023012|51.527532|           1|                3|                 2|                   1|09/11/2015|          2|16:15|                         5|                E09000030|             3|             11|        6|         30|              6|               4|             6|              0|                                0|                                      4|               1|                 1|                      1|                         4|                  0|                  1|                                          2|                E01004267|   3|\n",
      "| 201501HT21125|               537800|                183010|-0.014866|51.529193|           1|                3|                 1|                   2|17/12/2015|          5|20:09|                         5|                E09000030|             3|             11|        3|         30|              0|              -1|            -1|              0|                                0|                                      0|               4|                 1|                      2|                         4|                  0|                  1|                                          1|                E01004235|   4|\n",
      "| 201501HT21216|               533780|                181540|-0.073341|51.516949|           1|                3|                 2|                   1|26/11/2015|          5|19:27|                         5|                E09000030|             3|           1202|        6|         20|              6|               4|             6|              0|                                0|                                      0|               4|                 1|                      1|                         0|                  0|                  1|                                          1|                E01004310|   4|\n",
      "| 201501JC30140|               537330|                192190|-0.018053|51.611798|           1|                3|                 1|                   1|23/03/2015|          2|07:54|                        13|                E09000031|             3|            112|        6|         30|              6|               4|             3|            112|                                0|                                      0|               1|                 1|                      1|                         0|                  0|                  1|                                          1|                E01004454|   2|\n",
      "| 201501JC30378|               537380|                190040|-0.018173|51.592466|           1|                3|                 2|                   1|08/06/2015|          2|12:55|                        13|                E09000031|             3|            112|        6|         30|              6|               4|             6|              0|                                0|                                      0|               1|                 1|                      1|                         0|                  0|                  1|                                          1|                E01004460|   3|\n",
      "| 201501JI40094|               543880|                185700| 0.073821|51.551849|           1|                3|                 1|                   1|09/02/2015|          2|19:40|                        14|                E09000026|             3|            123|        6|         30|              3|               4|             6|              0|                                0|                                      1|               4|                 1|                      1|                         0|                  0|                  1|                                          2|                E01003729|   4|\n",
      "| 201501JI40399|               545120|                187290| 0.092349|51.565818|           1|                3|                 1|                   1|13/06/2015|          7|13:11|                        14|                E09000026|             5|              0|        6|         30|              3|               4|             6|              0|                                0|                                      0|               1|                 1|                      1|                         0|                  0|                  1|                                          1|                E01003757|   3|\n",
      "| 201501JI40629|               546130|                187390| 0.106952|51.566456|           1|                3|                 1|                   1|16/08/2015|          1|16:50|                        14|                E09000026|             6|              0|        6|         30|              0|              -1|            -1|              0|                                0|                                      0|               1|                 1|                      1|                         0|                  0|                  1|                                          1|                E01003769|   3|\n",
      "| 201501JI40701|               540160|                191860|  0.02266|51.608136|           1|                3|                 2|                   2|12/08/2015|          4|19:50|                        14|                E09000026|             3|           1009|        6|         30|              3|               4|             5|              0|                                0|                                      0|               1|                 1|                      1|                         0|                  0|                  1|                                          1|                E01003750|   4|\n",
      "+--------------+---------------------+----------------------+---------+---------+------------+-----------------+------------------+--------------------+----------+-----------+-----+--------------------------+-------------------------+--------------+---------------+---------+-----------+---------------+----------------+--------------+---------------+---------------------------------+---------------------------------------+----------------+------------------+-----------------------+--------------------------+-------------------+-------------------+-------------------------------------------+-------------------------+----+\n",
      "only showing top 40 rows\n",
      "\n",
      "None\n"
     ]
    }
   ],
   "source": [
    "print(finaldf.show(40))"
   ]
  },
  {
   "cell_type": "code",
   "execution_count": 63,
   "metadata": {},
   "outputs": [
    {
     "name": "stdout",
     "output_type": "stream",
     "text": [
      "['Accident_Index', 'Location_Easting_OSGR', 'Location_Northing_OSGR', 'Longitude', 'Latitude', 'Police_Force', 'Accident_Severity', 'Number_of_Vehicles', 'Number_of_Casualties', 'Date', 'Day_of_Week', 'Time', 'Local_Authority_(District)', 'Local_Authority_(Highway)', '1st_Road_Class', '1st_Road_Number', 'Road_Type', 'Speed_limit', 'Junction_Detail', 'Junction_Control', '2nd_Road_Class', '2nd_Road_Number', 'Pedestrian_Crossing-Human_Control', 'Pedestrian_Crossing-Physical_Facilities', 'Light_Conditions', 'Weather_Conditions', 'Road_Surface_Conditions', 'Special_Conditions_at_Site', 'Carriageway_Hazards', 'Urban_or_Rural_Area', 'Did_Police_Officer_Attend_Scene_of_Accident', 'LSOA_of_Accident_Location', 'Time']\n"
     ]
    }
   ],
   "source": [
    "print(finaldf.columns)"
   ]
  },
  {
   "cell_type": "code",
   "execution_count": 67,
   "metadata": {},
   "outputs": [],
   "source": [
    "cols_in=['Police_Force','Number_of_Vehicles','Number_of_Casualties','Day_of_Week','first_Road_Class','Road_Type','Speed_limit','Junction_Detail','Junction_Control','second_Road_Class','Pedestrian_Crossing_Human_Control','Pedestrian_Crossing_Physical_Facilities','Light_Conditions','Weather_Conditions','Road_Surface_Conditions','Special_Conditions_at_Site','Carriageway_Hazards','Urban_or_Rural_Area','Time']"
   ]
  },
  {
   "cell_type": "code",
   "execution_count": 68,
   "metadata": {},
   "outputs": [],
   "source": [
    "cols_out=['Polic_Force1','Number_of_Vehicles1','Number_of_Casualties1','Day_of_Week1']"
   ]
  },
  {
   "cell_type": "code",
   "execution_count": 85,
   "metadata": {},
   "outputs": [],
   "source": [
    "#this code referred from https://weiminwang.blog/2016/06/09/pyspark-tutorial-building-a-random-forest-binary-classifier-on-unbalanced-dataset/\n",
    "#converting some cols with discrete values to categorical\n",
    "indexers = [StringIndexer(inputCol=x, outputCol=x+'_tmp')\n",
    "            for x in cols_in ]\n",
    "encoders = [OneHotEncoder(dropLast=False, inputCol=x+\"_tmp\", outputCol=y)\n",
    "for x,y in zip(cols_in, cols_out)]\n",
    "tmp = [[i,j] for i,j in zip(indexers, encoders)]\n",
    "tmp = [i for sublist in tmp for i in sublist]"
   ]
  },
  {
   "cell_type": "code",
   "execution_count": 86,
   "metadata": {},
   "outputs": [],
   "source": [
    "#pipeline the stages to be executed\n",
    "vec=VectorAssembler(inputCols=cols_out,outputCol=\"features\")"
   ]
  },
  {
   "cell_type": "code",
   "execution_count": 87,
   "metadata": {},
   "outputs": [],
   "source": [
    "#Label Indexer for response variable\n",
    "labels=StringIndexer(inputCol='Accident_Severity',outputCol=\"label\")"
   ]
  },
  {
   "cell_type": "code",
   "execution_count": 88,
   "metadata": {},
   "outputs": [],
   "source": [
    "tmp=tmp+[vec,labels]\n",
    "pipeline=Pipeline(stages=tmp)"
   ]
  },
  {
   "cell_type": "code",
   "execution_count": 89,
   "metadata": {},
   "outputs": [
    {
     "name": "stderr",
     "output_type": "stream",
     "text": [
      "Exception ignored in: <object repr() failed>\n",
      "Traceback (most recent call last):\n",
      "  File \"/anaconda3/lib/python3.6/site-packages/pyspark/ml/wrapper.py\", line 40, in __del__\n",
      "    if SparkContext._active_spark_context and self._java_obj is not None:\n",
      "AttributeError: 'VectorAssembler' object has no attribute '_java_obj'\n"
     ]
    }
   ],
   "source": [
    "data=pipeline.fit(finaldf).transform(finaldf)"
   ]
  },
  {
   "cell_type": "code",
   "execution_count": 90,
   "metadata": {},
   "outputs": [
    {
     "data": {
      "text/plain": [
       "DataFrame[Accident_Index: string, Location_Easting_OSGR: int, Location_Northing_OSGR: int, Longitude: double, Latitude: double, Police_Force: int, Accident_Severity: int, Number_of_Vehicles: int, Number_of_Casualties: int, Date: string, Day_of_Week: int, Time: string, Local_Authority_(District): int, Local_Authority_(Highway): string, 1st_Road_Class: int, 1st_Road_Number: int, Road_Type: int, Speed_limit: int, Junction_Detail: int, Junction_Control: int, 2nd_Road_Class: int, 2nd_Road_Number: int, Pedestrian_Crossing-Human_Control: int, Pedestrian_Crossing-Physical_Facilities: int, Light_Conditions: int, Weather_Conditions: int, Road_Surface_Conditions: int, Special_Conditions_at_Site: int, Carriageway_Hazards: int, Urban_or_Rural_Area: int, Did_Police_Officer_Attend_Scene_of_Accident: int, LSOA_of_Accident_Location: string, Time: bigint, Police_Force_tmp: double, Polic_Force1: vector, Number_of_Vehicles_tmp: double, Number_of_Vehicles1: vector, Number_of_Casualties_tmp: double, Number_of_Casualties1: vector, Day_of_Week_tmp: double, Day_of_Week1: vector, features: vector, label: double]"
      ]
     },
     "execution_count": 90,
     "metadata": {},
     "output_type": "execute_result"
    }
   ],
   "source": [
    "#store intermediate\n",
    "data.cache()"
   ]
  },
  {
   "cell_type": "code",
   "execution_count": 91,
   "metadata": {},
   "outputs": [],
   "source": [
    "#train test split\n",
    "train,test=data.randomSplit([0.7,0.3],seed=123)"
   ]
  },
  {
   "cell_type": "code",
   "execution_count": 93,
   "metadata": {},
   "outputs": [
    {
     "name": "stdout",
     "output_type": "stream",
     "text": [
      "['Accident_Index', 'Location_Easting_OSGR', 'Location_Northing_OSGR', 'Longitude', 'Latitude', 'Police_Force', 'Accident_Severity', 'Number_of_Vehicles', 'Number_of_Casualties', 'Date', 'Day_of_Week', 'Time', 'Local_Authority_(District)', 'Local_Authority_(Highway)', '1st_Road_Class', '1st_Road_Number', 'Road_Type', 'Speed_limit', 'Junction_Detail', 'Junction_Control', '2nd_Road_Class', '2nd_Road_Number', 'Pedestrian_Crossing-Human_Control', 'Pedestrian_Crossing-Physical_Facilities', 'Light_Conditions', 'Weather_Conditions', 'Road_Surface_Conditions', 'Special_Conditions_at_Site', 'Carriageway_Hazards', 'Urban_or_Rural_Area', 'Did_Police_Officer_Attend_Scene_of_Accident', 'LSOA_of_Accident_Location', 'Time', 'Police_Force_tmp', 'Polic_Force1', 'Number_of_Vehicles_tmp', 'Number_of_Vehicles1', 'Number_of_Casualties_tmp', 'Number_of_Casualties1', 'Day_of_Week_tmp', 'Day_of_Week1', 'features', 'label']\n"
     ]
    }
   ],
   "source": [
    "print(data.columns)"
   ]
  },
  {
   "cell_type": "code",
   "execution_count": 94,
   "metadata": {},
   "outputs": [],
   "source": [
    "#Decision Tree\n",
    "dt=DecisionTreeClassifier(labelCol=\"label\",featuresCol=\"features\")\n",
    "model=dt.fit(train)"
   ]
  },
  {
   "cell_type": "code",
   "execution_count": 95,
   "metadata": {},
   "outputs": [],
   "source": [
    "preds=model.transform(test)"
   ]
  },
  {
   "cell_type": "code",
   "execution_count": 96,
   "metadata": {},
   "outputs": [
    {
     "name": "stdout",
     "output_type": "stream",
     "text": [
      "+----------+-----+--------------------+\n",
      "|prediction|label|            features|\n",
      "+----------+-----+--------------------+\n",
      "|       0.0|  0.0|(87,[0,44,58,82],...|\n",
      "|       0.0|  0.0|(87,[0,44,58,85],...|\n",
      "|       0.0|  0.0|(87,[0,43,58,83],...|\n",
      "|       0.0|  0.0|(87,[0,43,58,81],...|\n",
      "|       0.0|  0.0|(87,[0,43,58,81],...|\n",
      "+----------+-----+--------------------+\n",
      "only showing top 5 rows\n",
      "\n"
     ]
    }
   ],
   "source": [
    "preds.select('prediction','label','features').show(5)"
   ]
  },
  {
   "cell_type": "code",
   "execution_count": 103,
   "metadata": {},
   "outputs": [
    {
     "name": "stdout",
     "output_type": "stream",
     "text": [
      "Test Error=0.15112040176409103\n",
      "Accuracy Percentage=84.8879598235909\n"
     ]
    }
   ],
   "source": [
    "#Evaluating\n",
    "evaluator=MulticlassClassificationEvaluator(labelCol='label',predictionCol='prediction',metricName='accuracy')\n",
    "accuracy=evaluator.evaluate(preds)\n",
    "print('Test Error='+str((1.0-accuracy)))\n",
    "print('Accuracy Percentage='+str((accuracy*100)))"
   ]
  },
  {
   "cell_type": "code",
   "execution_count": 108,
   "metadata": {},
   "outputs": [],
   "source": [
    "#Logistic Regression\n",
    "lr=LogisticRegression(maxIter=20,regParam=0.3,elasticNetParam=0.8)\n",
    "lrModel=lr.fit(train)"
   ]
  },
  {
   "cell_type": "code",
   "execution_count": 111,
   "metadata": {},
   "outputs": [
    {
     "name": "stdout",
     "output_type": "stream",
     "text": [
      "Coefficients:3 X 87 CSRMatrix\n",
      "\n",
      "Intercept:[2.035590233029595,0.2533337466725546,-2.28892397970215]\n"
     ]
    }
   ],
   "source": [
    "#Coefficients\n",
    "print('Coefficients:'+str(lrModel.coefficientMatrix))\n",
    "print('Intercept:'+str(lrModel.interceptVector))"
   ]
  },
  {
   "cell_type": "code",
   "execution_count": 113,
   "metadata": {},
   "outputs": [],
   "source": [
    "lpreds=lrModel.transform(test)"
   ]
  },
  {
   "cell_type": "code",
   "execution_count": 115,
   "metadata": {},
   "outputs": [
    {
     "name": "stdout",
     "output_type": "stream",
     "text": [
      "Test Error=0.15071251943814212\n",
      "Accuracy Percentage=84.92874805618578\n"
     ]
    }
   ],
   "source": [
    "evaluator=MulticlassClassificationEvaluator(metricName='accuracy')\n",
    "accuracy=evaluator.evaluate(lpreds)\n",
    "print('Test Error='+str((1.0-accuracy)))\n",
    "print('Accuracy Percentage='+str((accuracy*100)))"
   ]
  },
  {
   "cell_type": "code",
   "execution_count": null,
   "metadata": {},
   "outputs": [],
   "source": []
  }
 ],
 "metadata": {
  "kernelspec": {
   "display_name": "Python 3",
   "language": "python",
   "name": "python3"
  },
  "language_info": {
   "codemirror_mode": {
    "name": "ipython",
    "version": 3
   },
   "file_extension": ".py",
   "mimetype": "text/x-python",
   "name": "python",
   "nbconvert_exporter": "python",
   "pygments_lexer": "ipython3",
   "version": "3.6.6"
  }
 },
 "nbformat": 4,
 "nbformat_minor": 2
}
